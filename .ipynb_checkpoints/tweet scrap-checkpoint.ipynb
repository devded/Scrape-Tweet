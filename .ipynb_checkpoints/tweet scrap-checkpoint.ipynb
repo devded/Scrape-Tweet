{
 "cells": [
  {
   "cell_type": "code",
   "execution_count": 1,
   "metadata": {},
   "outputs": [],
   "source": [
    "from twitterscraper import query_tweets\n",
    "import datetime as dt\n",
    "import pandas as pd"
   ]
  },
  {
   "cell_type": "code",
   "execution_count": null,
   "metadata": {},
   "outputs": [],
   "source": [
    "tweet_topic = 'accident'\n",
    "begin_date = dt.date(2020,7,1)\n",
    "end_date = dt.date.today()\n",
    "tweet_limit = 10\n",
    "tweet_lang = 'english'\n",
    "\n",
    "if __name__ == '__main__':\n",
    "    # list_of_tweets = query_tweets(\"Trump OR Clinton\", 10)\n",
    "    list_of_tweets = query_tweets(tweet_topic, limit=tweet_limit, begindate=begin_date, enddate=end_date, poolsize=20, lang=tweet_lang)"
   ]
  },
  {
   "cell_type": "code",
   "execution_count": null,
   "metadata": {},
   "outputs": [],
   "source": [
    "df = pd.DataFrame(t.__dict__ for t in list_of_tweets)\n",
    "df.shape"
   ]
  },
  {
   "cell_type": "code",
   "execution_count": null,
   "metadata": {},
   "outputs": [],
   "source": [
    "df.head()"
   ]
  },
  {
   "cell_type": "code",
   "execution_count": null,
   "metadata": {},
   "outputs": [],
   "source": [
    "df.to_csv('accident 10179.csv')"
   ]
  }
 ],
 "metadata": {
  "kernelspec": {
   "display_name": "Python 3",
   "language": "python",
   "name": "python3"
  },
  "language_info": {
   "codemirror_mode": {
    "name": "ipython",
    "version": 3
   },
   "file_extension": ".py",
   "mimetype": "text/x-python",
   "name": "python",
   "nbconvert_exporter": "python",
   "pygments_lexer": "ipython3",
   "version": "3.7.6"
  }
 },
 "nbformat": 4,
 "nbformat_minor": 4
}
