{
 "metadata": {
  "language_info": {
   "codemirror_mode": {
    "name": "ipython",
    "version": 3
   },
   "file_extension": ".py",
   "mimetype": "text/x-python",
   "name": "python",
   "nbconvert_exporter": "python",
   "pygments_lexer": "ipython3",
   "version": "3.7.6-final"
  },
  "orig_nbformat": 2,
  "kernelspec": {
   "name": "python3",
   "display_name": "Python 3"
  }
 },
 "nbformat": 4,
 "nbformat_minor": 2,
 "cells": [
  {
   "cell_type": "code",
   "execution_count": 11,
   "metadata": {},
   "outputs": [],
   "source": [
    "import pandas as pd"
   ]
  },
  {
   "cell_type": "code",
   "execution_count": 12,
   "metadata": {},
   "outputs": [],
   "source": [
    "df1 = pd.read_csv('Dataset/accident_13.csv')\n",
    "df2 = pd.read_csv('Dataset/accident_14.csv')"
   ]
  },
  {
   "cell_type": "code",
   "execution_count": 13,
   "metadata": {},
   "outputs": [],
   "source": [
    "frames = [df1, df2]"
   ]
  },
  {
   "cell_type": "code",
   "execution_count": 14,
   "metadata": {},
   "outputs": [],
   "source": [
    "marge = pd.concat(frames)"
   ]
  },
  {
   "cell_type": "code",
   "execution_count": 15,
   "metadata": {},
   "outputs": [],
   "source": [
    "marge.to_csv('Dataset/accident_marge.csv', index=False)"
   ]
  },
  {
   "cell_type": "code",
   "execution_count": 16,
   "metadata": {},
   "outputs": [
    {
     "output_type": "execute_result",
     "data": {
      "text/plain": "       Unnamed: 0.1                                               text\n0                38  As much as it’s insanity that that dude from N...\n1                39  MODIF [26 juil. 2020 à 19 h 57] Fermeture de 3...\n2                40  Motor Vehicle Accident | Autumn Meadow Trl / S...\n3                41  Motor Vehicle Accident | N Hampton Rd / Remond...\n4                42  New album is okay. Chris still sounds amazing ...\n...             ...                                                ...\n12518         13932  Construction site accidents can be caused by a...\n12519         13933  I caused an accident in January and I was give...\n12520         13934  THANK YOU. Just got off the phone with county ...\n12521         13935  A lot of y’all never been in a car accident so...\n12522         13936              No such accidents in the Middle East.\n\n[25046 rows x 2 columns]",
      "text/html": "<div>\n<style scoped>\n    .dataframe tbody tr th:only-of-type {\n        vertical-align: middle;\n    }\n\n    .dataframe tbody tr th {\n        vertical-align: top;\n    }\n\n    .dataframe thead th {\n        text-align: right;\n    }\n</style>\n<table border=\"1\" class=\"dataframe\">\n  <thead>\n    <tr style=\"text-align: right;\">\n      <th></th>\n      <th>Unnamed: 0.1</th>\n      <th>text</th>\n    </tr>\n  </thead>\n  <tbody>\n    <tr>\n      <th>0</th>\n      <td>38</td>\n      <td>As much as it’s insanity that that dude from N...</td>\n    </tr>\n    <tr>\n      <th>1</th>\n      <td>39</td>\n      <td>MODIF [26 juil. 2020 à 19 h 57] Fermeture de 3...</td>\n    </tr>\n    <tr>\n      <th>2</th>\n      <td>40</td>\n      <td>Motor Vehicle Accident | Autumn Meadow Trl / S...</td>\n    </tr>\n    <tr>\n      <th>3</th>\n      <td>41</td>\n      <td>Motor Vehicle Accident | N Hampton Rd / Remond...</td>\n    </tr>\n    <tr>\n      <th>4</th>\n      <td>42</td>\n      <td>New album is okay. Chris still sounds amazing ...</td>\n    </tr>\n    <tr>\n      <th>...</th>\n      <td>...</td>\n      <td>...</td>\n    </tr>\n    <tr>\n      <th>12518</th>\n      <td>13932</td>\n      <td>Construction site accidents can be caused by a...</td>\n    </tr>\n    <tr>\n      <th>12519</th>\n      <td>13933</td>\n      <td>I caused an accident in January and I was give...</td>\n    </tr>\n    <tr>\n      <th>12520</th>\n      <td>13934</td>\n      <td>THANK YOU. Just got off the phone with county ...</td>\n    </tr>\n    <tr>\n      <th>12521</th>\n      <td>13935</td>\n      <td>A lot of y’all never been in a car accident so...</td>\n    </tr>\n    <tr>\n      <th>12522</th>\n      <td>13936</td>\n      <td>No such accidents in the Middle East.</td>\n    </tr>\n  </tbody>\n</table>\n<p>25046 rows × 2 columns</p>\n</div>"
     },
     "metadata": {},
     "execution_count": 16
    }
   ],
   "source": [
    "marge"
   ]
  }
 ]
}