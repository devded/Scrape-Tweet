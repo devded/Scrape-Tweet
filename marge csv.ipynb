{
 "metadata": {
  "language_info": {
   "codemirror_mode": {
    "name": "ipython",
    "version": 3
   },
   "file_extension": ".py",
   "mimetype": "text/x-python",
   "name": "python",
   "nbconvert_exporter": "python",
   "pygments_lexer": "ipython3",
   "version": "3.7.6-final"
  },
  "orig_nbformat": 2,
  "kernelspec": {
   "name": "python3",
   "display_name": "Python 3"
  }
 },
 "nbformat": 4,
 "nbformat_minor": 2,
 "cells": [
  {
   "cell_type": "code",
   "execution_count": 1,
   "metadata": {},
   "outputs": [],
   "source": [
    "import pandas as pd"
   ]
  },
  {
   "cell_type": "code",
   "execution_count": 2,
   "metadata": {},
   "outputs": [],
   "source": [
    "df1 = pd.read_csv('Dataset/accident_1_ds.csv')\n",
    "df2 = pd.read_csv('Dataset/accident_2_ds.csv')\n",
    "df3 = pd.read_csv('Dataset/beirut_ds.csv')\n",
    "df4 = pd.read_csv('Dataset/bushfires_ds.csv')\n",
    "df5 = pd.read_csv('Dataset/disaster_1_ds.csv')\n",
    "df6 = pd.read_csv('Dataset/disaster_2_ds.csv')\n",
    "df7 = pd.read_csv('Dataset/earthquake_ds.csv')\n",
    "df8 = pd.read_csv('Dataset/natural_ds.csv')"
   ]
  },
  {
   "cell_type": "code",
   "execution_count": 3,
   "metadata": {},
   "outputs": [],
   "source": [
    "frames = [df1, df2, df3, df4, df5, df6, df7, df8]"
   ]
  },
  {
   "cell_type": "code",
   "execution_count": 4,
   "metadata": {},
   "outputs": [],
   "source": [
    "marge = pd.concat(frames)"
   ]
  },
  {
   "cell_type": "code",
   "execution_count": 5,
   "metadata": {},
   "outputs": [],
   "source": [
    "marge.to_csv('Dataset/tweet_marge.csv', index=False)"
   ]
  },
  {
   "cell_type": "code",
   "execution_count": 6,
   "metadata": {},
   "outputs": [
    {
     "output_type": "execute_result",
     "data": {
      "text/plain": "                                                   text\n0     As much as it’s insanity that that dude from N...\n1     New album is okay. Chris still sounds amazing ...\n2     Anytime they help you remember that. Ever been...\n3                    Tryna make a billion on accident!!\n4     Yes, My First Car Lasted 3 Years When It Wasn’...\n...                                                 ...\n7694  @AmazonUK @Hermesparcels sat in the garden wai...\n7695  In every disaster/apocalyptic movie there’s an...\n7696  Entire financial industry exposed as basically...\n7697  “The coronavirus is a natural disaster. The Re...\n7698  \"This suffering, your suffering, wasn’t inevit...\n\n[30688 rows x 1 columns]",
      "text/html": "<div>\n<style scoped>\n    .dataframe tbody tr th:only-of-type {\n        vertical-align: middle;\n    }\n\n    .dataframe tbody tr th {\n        vertical-align: top;\n    }\n\n    .dataframe thead th {\n        text-align: right;\n    }\n</style>\n<table border=\"1\" class=\"dataframe\">\n  <thead>\n    <tr style=\"text-align: right;\">\n      <th></th>\n      <th>text</th>\n    </tr>\n  </thead>\n  <tbody>\n    <tr>\n      <th>0</th>\n      <td>As much as it’s insanity that that dude from N...</td>\n    </tr>\n    <tr>\n      <th>1</th>\n      <td>New album is okay. Chris still sounds amazing ...</td>\n    </tr>\n    <tr>\n      <th>2</th>\n      <td>Anytime they help you remember that. Ever been...</td>\n    </tr>\n    <tr>\n      <th>3</th>\n      <td>Tryna make a billion on accident!!</td>\n    </tr>\n    <tr>\n      <th>4</th>\n      <td>Yes, My First Car Lasted 3 Years When It Wasn’...</td>\n    </tr>\n    <tr>\n      <th>...</th>\n      <td>...</td>\n    </tr>\n    <tr>\n      <th>7694</th>\n      <td>@AmazonUK @Hermesparcels sat in the garden wai...</td>\n    </tr>\n    <tr>\n      <th>7695</th>\n      <td>In every disaster/apocalyptic movie there’s an...</td>\n    </tr>\n    <tr>\n      <th>7696</th>\n      <td>Entire financial industry exposed as basically...</td>\n    </tr>\n    <tr>\n      <th>7697</th>\n      <td>“The coronavirus is a natural disaster. The Re...</td>\n    </tr>\n    <tr>\n      <th>7698</th>\n      <td>\"This suffering, your suffering, wasn’t inevit...</td>\n    </tr>\n  </tbody>\n</table>\n<p>30688 rows × 1 columns</p>\n</div>"
     },
     "metadata": {},
     "execution_count": 6
    }
   ],
   "source": [
    "marge"
   ]
  }
 ]
}