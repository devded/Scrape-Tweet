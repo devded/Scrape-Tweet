{
 "metadata": {
  "language_info": {
   "codemirror_mode": {
    "name": "ipython",
    "version": 3
   },
   "file_extension": ".py",
   "mimetype": "text/x-python",
   "name": "python",
   "nbconvert_exporter": "python",
   "pygments_lexer": "ipython3",
   "version": "3.7.6-final"
  },
  "orig_nbformat": 2,
  "kernelspec": {
   "name": "python3",
   "display_name": "Python 3"
  }
 },
 "nbformat": 4,
 "nbformat_minor": 2,
 "cells": [
  {
   "cell_type": "code",
   "execution_count": 100,
   "metadata": {},
   "outputs": [],
   "source": [
    "import pandas as pd"
   ]
  },
  {
   "cell_type": "code",
   "execution_count": 101,
   "metadata": {},
   "outputs": [],
   "source": [
    "df = pd.read_csv('Dataset/natural_ds.csv')"
   ]
  },
  {
   "cell_type": "code",
   "execution_count": 102,
   "metadata": {},
   "outputs": [
    {
     "output_type": "execute_result",
     "data": {
      "text/plain": "   Unnamed: 0    screen_name                          username  \\\n0           0  shubhamsteve7                Shubham Yaduvanshi   \n1           1   texaslnghorn                      johnny quest   \n2           2   CarolsCloset                   carolyn tackett   \n3           3        MICLAW1  Maddox, Isaacson & Cisneros, LLP   \n4           4     RuizBelvis                Miguel Ruiz Belvis   \n\n               user_id             tweet_id  \\\n0  1152844946577039362  1279203043465138176   \n1           1725786169  1279202307360645121   \n2             22285976  1279201745793622017   \n3            863842520  1279201306234761217   \n4            253829400  1279200736706990080   \n\n                                   tweet_url            timestamp  \\\n0  /shubhamsteve7/status/1279203043465138176  2020-07-03 23:59:06   \n1   /texaslnghorn/status/1279202307360645121  2020-07-03 23:56:11   \n2   /CarolsCloset/status/1279201745793622017  2020-07-03 23:53:57   \n3        /MICLAW1/status/1279201306234761217  2020-07-03 23:52:12   \n4     /RuizBelvis/status/1279200736706990080  2020-07-03 23:49:56   \n\n   timestamp_epochs                                               text  \\\n0        1593820746  INFORM report (European Commission) has ranked...   \n1        1593820571  Fuck Minnesota. You made your bed, sleep in it...   \n2        1593820437  Not happening. This isn't a natural disaster. ...   \n3        1593820332  Having a strong continuity plan in place means...   \n4        1593820196  @DavidBegnaud @AEEONLINE @NoticentroWAPA @Tele...   \n\n                                           text_html  ...  \\\n0  <p class=\"TweetTextSize js-tweet-text tweet-te...  ...   \n1  <p class=\"TweetTextSize js-tweet-text tweet-te...  ...   \n2  <p class=\"TweetTextSize js-tweet-text tweet-te...  ...   \n3  <p class=\"TweetTextSize js-tweet-text tweet-te...  ...   \n4  <p class=\"TweetTextSize js-tweet-text tweet-te...  ...   \n\n                                            img_urls video_url  likes  \\\n0                                                 []       NaN      0   \n1                                                 []       NaN      2   \n2                                                 []       NaN      1   \n3  ['https://pbs.twimg.com/media/EcCizqOX0AMWDaT....       NaN      0   \n4                                                 []       NaN      0   \n\n  retweets  replies  is_replied  is_reply_to  parent_tweet_id  \\\n0        0        0       False        False              NaN   \n1        0        1        True        False              NaN   \n2        1        0       False         True     1.278799e+18   \n3        0        0       False        False              NaN   \n4        0        1        True        False              NaN   \n\n                                      reply_to_users  lang  \n0                                                 []    en  \n1                                                 []    en  \n2  [{'screen_name': 'TheoKeith', 'user_id': '1003...    en  \n3                                                 []    en  \n4                                                 []    en  \n\n[5 rows x 23 columns]",
      "text/html": "<div>\n<style scoped>\n    .dataframe tbody tr th:only-of-type {\n        vertical-align: middle;\n    }\n\n    .dataframe tbody tr th {\n        vertical-align: top;\n    }\n\n    .dataframe thead th {\n        text-align: right;\n    }\n</style>\n<table border=\"1\" class=\"dataframe\">\n  <thead>\n    <tr style=\"text-align: right;\">\n      <th></th>\n      <th>Unnamed: 0</th>\n      <th>screen_name</th>\n      <th>username</th>\n      <th>user_id</th>\n      <th>tweet_id</th>\n      <th>tweet_url</th>\n      <th>timestamp</th>\n      <th>timestamp_epochs</th>\n      <th>text</th>\n      <th>text_html</th>\n      <th>...</th>\n      <th>img_urls</th>\n      <th>video_url</th>\n      <th>likes</th>\n      <th>retweets</th>\n      <th>replies</th>\n      <th>is_replied</th>\n      <th>is_reply_to</th>\n      <th>parent_tweet_id</th>\n      <th>reply_to_users</th>\n      <th>lang</th>\n    </tr>\n  </thead>\n  <tbody>\n    <tr>\n      <th>0</th>\n      <td>0</td>\n      <td>shubhamsteve7</td>\n      <td>Shubham Yaduvanshi</td>\n      <td>1152844946577039362</td>\n      <td>1279203043465138176</td>\n      <td>/shubhamsteve7/status/1279203043465138176</td>\n      <td>2020-07-03 23:59:06</td>\n      <td>1593820746</td>\n      <td>INFORM report (European Commission) has ranked...</td>\n      <td>&lt;p class=\"TweetTextSize js-tweet-text tweet-te...</td>\n      <td>...</td>\n      <td>[]</td>\n      <td>NaN</td>\n      <td>0</td>\n      <td>0</td>\n      <td>0</td>\n      <td>False</td>\n      <td>False</td>\n      <td>NaN</td>\n      <td>[]</td>\n      <td>en</td>\n    </tr>\n    <tr>\n      <th>1</th>\n      <td>1</td>\n      <td>texaslnghorn</td>\n      <td>johnny quest</td>\n      <td>1725786169</td>\n      <td>1279202307360645121</td>\n      <td>/texaslnghorn/status/1279202307360645121</td>\n      <td>2020-07-03 23:56:11</td>\n      <td>1593820571</td>\n      <td>Fuck Minnesota. You made your bed, sleep in it...</td>\n      <td>&lt;p class=\"TweetTextSize js-tweet-text tweet-te...</td>\n      <td>...</td>\n      <td>[]</td>\n      <td>NaN</td>\n      <td>2</td>\n      <td>0</td>\n      <td>1</td>\n      <td>True</td>\n      <td>False</td>\n      <td>NaN</td>\n      <td>[]</td>\n      <td>en</td>\n    </tr>\n    <tr>\n      <th>2</th>\n      <td>2</td>\n      <td>CarolsCloset</td>\n      <td>carolyn tackett</td>\n      <td>22285976</td>\n      <td>1279201745793622017</td>\n      <td>/CarolsCloset/status/1279201745793622017</td>\n      <td>2020-07-03 23:53:57</td>\n      <td>1593820437</td>\n      <td>Not happening. This isn't a natural disaster. ...</td>\n      <td>&lt;p class=\"TweetTextSize js-tweet-text tweet-te...</td>\n      <td>...</td>\n      <td>[]</td>\n      <td>NaN</td>\n      <td>1</td>\n      <td>1</td>\n      <td>0</td>\n      <td>False</td>\n      <td>True</td>\n      <td>1.278799e+18</td>\n      <td>[{'screen_name': 'TheoKeith', 'user_id': '1003...</td>\n      <td>en</td>\n    </tr>\n    <tr>\n      <th>3</th>\n      <td>3</td>\n      <td>MICLAW1</td>\n      <td>Maddox, Isaacson &amp; Cisneros, LLP</td>\n      <td>863842520</td>\n      <td>1279201306234761217</td>\n      <td>/MICLAW1/status/1279201306234761217</td>\n      <td>2020-07-03 23:52:12</td>\n      <td>1593820332</td>\n      <td>Having a strong continuity plan in place means...</td>\n      <td>&lt;p class=\"TweetTextSize js-tweet-text tweet-te...</td>\n      <td>...</td>\n      <td>['https://pbs.twimg.com/media/EcCizqOX0AMWDaT....</td>\n      <td>NaN</td>\n      <td>0</td>\n      <td>0</td>\n      <td>0</td>\n      <td>False</td>\n      <td>False</td>\n      <td>NaN</td>\n      <td>[]</td>\n      <td>en</td>\n    </tr>\n    <tr>\n      <th>4</th>\n      <td>4</td>\n      <td>RuizBelvis</td>\n      <td>Miguel Ruiz Belvis</td>\n      <td>253829400</td>\n      <td>1279200736706990080</td>\n      <td>/RuizBelvis/status/1279200736706990080</td>\n      <td>2020-07-03 23:49:56</td>\n      <td>1593820196</td>\n      <td>@DavidBegnaud @AEEONLINE @NoticentroWAPA @Tele...</td>\n      <td>&lt;p class=\"TweetTextSize js-tweet-text tweet-te...</td>\n      <td>...</td>\n      <td>[]</td>\n      <td>NaN</td>\n      <td>0</td>\n      <td>0</td>\n      <td>1</td>\n      <td>True</td>\n      <td>False</td>\n      <td>NaN</td>\n      <td>[]</td>\n      <td>en</td>\n    </tr>\n  </tbody>\n</table>\n<p>5 rows × 23 columns</p>\n</div>"
     },
     "metadata": {},
     "execution_count": 102
    }
   ],
   "source": [
    "df.head()"
   ]
  },
  {
   "cell_type": "code",
   "execution_count": 103,
   "metadata": {},
   "outputs": [],
   "source": [
    "df = df.drop(columns=['Unnamed: 0', 'screen_name', 'username', 'user_id', 'tweet_id', 'tweet_url', 'timestamp' ,'timestamp_epochs', 'text_html', 'links', 'hashtags', 'has_media', 'img_urls', 'video_url', 'likes','retweets', 'replies', 'is_replied', 'is_reply_to', 'parent_tweet_id', 'reply_to_users', 'lang'])\n"
   ]
  },
  {
   "cell_type": "code",
   "execution_count": 104,
   "metadata": {},
   "outputs": [
    {
     "output_type": "execute_result",
     "data": {
      "text/plain": "(8773, 1)"
     },
     "metadata": {},
     "execution_count": 104
    }
   ],
   "source": [
    "df.shape"
   ]
  },
  {
   "cell_type": "code",
   "execution_count": 105,
   "metadata": {},
   "outputs": [],
   "source": [
    "df.drop_duplicates(subset =\"text\", keep = False, inplace = True) "
   ]
  },
  {
   "cell_type": "code",
   "execution_count": 106,
   "metadata": {},
   "outputs": [
    {
     "output_type": "execute_result",
     "data": {
      "text/plain": "(7699, 1)"
     },
     "metadata": {},
     "execution_count": 106
    }
   ],
   "source": [
    "df.shape"
   ]
  },
  {
   "cell_type": "code",
   "execution_count": 107,
   "metadata": {},
   "outputs": [],
   "source": [
    "df.to_csv('Dataset/natural_ds.csv', index=False)"
   ]
  }
 ]
}