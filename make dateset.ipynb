{
 "metadata": {
  "language_info": {
   "codemirror_mode": {
    "name": "ipython",
    "version": 3
   },
   "file_extension": ".py",
   "mimetype": "text/x-python",
   "name": "python",
   "nbconvert_exporter": "python",
   "pygments_lexer": "ipython3",
   "version": "3.7.6-final"
  },
  "orig_nbformat": 2,
  "kernelspec": {
   "name": "python3",
   "display_name": "Python 3"
  }
 },
 "nbformat": 4,
 "nbformat_minor": 2,
 "cells": [
  {
   "cell_type": "code",
   "execution_count": 72,
   "metadata": {},
   "outputs": [],
   "source": [
    "import pandas as pd"
   ]
  },
  {
   "cell_type": "code",
   "execution_count": 73,
   "metadata": {},
   "outputs": [],
   "source": [
    "df = pd.read_csv('Data/accident_13937.csv')"
   ]
  },
  {
   "cell_type": "code",
   "execution_count": 74,
   "metadata": {},
   "outputs": [
    {
     "output_type": "execute_result",
     "data": {
      "text/plain": "   Unnamed: 0  Unnamed: 0.1      screen_name  \\\n0           0             0   naomi_cortez11   \n1           1             1         DaavPuke   \n2           2             2  doctorneutroph1   \n3           3             3  JonSmit84868940   \n4           4             4  KansasCityScout   \n\n                              username              user_id  \\\n0                            ❅Nⱥ๏mᎥ❅ ✨            867458209   \n1  Daav 'Riots Are Good Actually' Puke            187295425   \n2             doctorneutrophilsarelife  1284998127607599105   \n3                            Jon Smith  1238503858684465152   \n4                    Kansas City Scout             25517791   \n\n              tweet_id                                    tweet_url  \\\n0  1287538180044988416   /naomi_cortez11/status/1287538180044988416   \n1  1287538165859983365         /DaavPuke/status/1287538165859983365   \n2  1287538159765651457  /doctorneutroph1/status/1287538159765651457   \n3  1287538120427294720  /JonSmit84868940/status/1287538120427294720   \n4  1287538116958584833  /KansasCityScout/status/1287538116958584833   \n\n             timestamp  timestamp_epochs  \\\n0  2020-07-26 23:59:58        1595807998   \n1  2020-07-26 23:59:54        1595807994   \n2  2020-07-26 23:59:53        1595807993   \n3  2020-07-26 23:59:43        1595807983   \n4  2020-07-26 23:59:43        1595807983   \n\n                                                text  ... has_media img_urls  \\\n0  I need to redye my roots but how am I suppose ...  ...     False       []   \n1  Any accident that brings you to Twitter is an ...  ...     False       []   \n2  legit I used their first name by accident on a...  ...     False       []   \n3     Republicans didn't make laws dumb by accident.  ...     False       []   \n4  Updt 2: ACCIDENT\\nI-435 WB (KS) PAST STATE LIN...  ...     False       []   \n\n  video_url  likes retweets  replies  is_replied  is_reply_to  \\\n0       NaN      0        0        0       False        False   \n1       NaN      1        0        0       False         True   \n2       NaN      1        0        0       False         True   \n3       NaN      0        0        0       False         True   \n4       NaN      0        0        0       False        False   \n\n   parent_tweet_id                                     reply_to_users  \n0              NaN                                                 []  \n1     1.287538e+18  [{'screen_name': 'chersith', 'user_id': '97954...  \n2     1.287493e+18  [{'screen_name': 'gemini_mdtobe', 'user_id': '...  \n3     1.287468e+18  [{'screen_name': 'shannonrwatts', 'user_id': '...  \n4              NaN                                                 []  \n\n[5 rows x 23 columns]",
      "text/html": "<div>\n<style scoped>\n    .dataframe tbody tr th:only-of-type {\n        vertical-align: middle;\n    }\n\n    .dataframe tbody tr th {\n        vertical-align: top;\n    }\n\n    .dataframe thead th {\n        text-align: right;\n    }\n</style>\n<table border=\"1\" class=\"dataframe\">\n  <thead>\n    <tr style=\"text-align: right;\">\n      <th></th>\n      <th>Unnamed: 0</th>\n      <th>Unnamed: 0.1</th>\n      <th>screen_name</th>\n      <th>username</th>\n      <th>user_id</th>\n      <th>tweet_id</th>\n      <th>tweet_url</th>\n      <th>timestamp</th>\n      <th>timestamp_epochs</th>\n      <th>text</th>\n      <th>...</th>\n      <th>has_media</th>\n      <th>img_urls</th>\n      <th>video_url</th>\n      <th>likes</th>\n      <th>retweets</th>\n      <th>replies</th>\n      <th>is_replied</th>\n      <th>is_reply_to</th>\n      <th>parent_tweet_id</th>\n      <th>reply_to_users</th>\n    </tr>\n  </thead>\n  <tbody>\n    <tr>\n      <th>0</th>\n      <td>0</td>\n      <td>0</td>\n      <td>naomi_cortez11</td>\n      <td>❅Nⱥ๏mᎥ❅ ✨</td>\n      <td>867458209</td>\n      <td>1287538180044988416</td>\n      <td>/naomi_cortez11/status/1287538180044988416</td>\n      <td>2020-07-26 23:59:58</td>\n      <td>1595807998</td>\n      <td>I need to redye my roots but how am I suppose ...</td>\n      <td>...</td>\n      <td>False</td>\n      <td>[]</td>\n      <td>NaN</td>\n      <td>0</td>\n      <td>0</td>\n      <td>0</td>\n      <td>False</td>\n      <td>False</td>\n      <td>NaN</td>\n      <td>[]</td>\n    </tr>\n    <tr>\n      <th>1</th>\n      <td>1</td>\n      <td>1</td>\n      <td>DaavPuke</td>\n      <td>Daav 'Riots Are Good Actually' Puke</td>\n      <td>187295425</td>\n      <td>1287538165859983365</td>\n      <td>/DaavPuke/status/1287538165859983365</td>\n      <td>2020-07-26 23:59:54</td>\n      <td>1595807994</td>\n      <td>Any accident that brings you to Twitter is an ...</td>\n      <td>...</td>\n      <td>False</td>\n      <td>[]</td>\n      <td>NaN</td>\n      <td>1</td>\n      <td>0</td>\n      <td>0</td>\n      <td>False</td>\n      <td>True</td>\n      <td>1.287538e+18</td>\n      <td>[{'screen_name': 'chersith', 'user_id': '97954...</td>\n    </tr>\n    <tr>\n      <th>2</th>\n      <td>2</td>\n      <td>2</td>\n      <td>doctorneutroph1</td>\n      <td>doctorneutrophilsarelife</td>\n      <td>1284998127607599105</td>\n      <td>1287538159765651457</td>\n      <td>/doctorneutroph1/status/1287538159765651457</td>\n      <td>2020-07-26 23:59:53</td>\n      <td>1595807993</td>\n      <td>legit I used their first name by accident on a...</td>\n      <td>...</td>\n      <td>False</td>\n      <td>[]</td>\n      <td>NaN</td>\n      <td>1</td>\n      <td>0</td>\n      <td>0</td>\n      <td>False</td>\n      <td>True</td>\n      <td>1.287493e+18</td>\n      <td>[{'screen_name': 'gemini_mdtobe', 'user_id': '...</td>\n    </tr>\n    <tr>\n      <th>3</th>\n      <td>3</td>\n      <td>3</td>\n      <td>JonSmit84868940</td>\n      <td>Jon Smith</td>\n      <td>1238503858684465152</td>\n      <td>1287538120427294720</td>\n      <td>/JonSmit84868940/status/1287538120427294720</td>\n      <td>2020-07-26 23:59:43</td>\n      <td>1595807983</td>\n      <td>Republicans didn't make laws dumb by accident.</td>\n      <td>...</td>\n      <td>False</td>\n      <td>[]</td>\n      <td>NaN</td>\n      <td>0</td>\n      <td>0</td>\n      <td>0</td>\n      <td>False</td>\n      <td>True</td>\n      <td>1.287468e+18</td>\n      <td>[{'screen_name': 'shannonrwatts', 'user_id': '...</td>\n    </tr>\n    <tr>\n      <th>4</th>\n      <td>4</td>\n      <td>4</td>\n      <td>KansasCityScout</td>\n      <td>Kansas City Scout</td>\n      <td>25517791</td>\n      <td>1287538116958584833</td>\n      <td>/KansasCityScout/status/1287538116958584833</td>\n      <td>2020-07-26 23:59:43</td>\n      <td>1595807983</td>\n      <td>Updt 2: ACCIDENT\\nI-435 WB (KS) PAST STATE LIN...</td>\n      <td>...</td>\n      <td>False</td>\n      <td>[]</td>\n      <td>NaN</td>\n      <td>0</td>\n      <td>0</td>\n      <td>0</td>\n      <td>False</td>\n      <td>False</td>\n      <td>NaN</td>\n      <td>[]</td>\n    </tr>\n  </tbody>\n</table>\n<p>5 rows × 23 columns</p>\n</div>"
     },
     "metadata": {},
     "execution_count": 74
    }
   ],
   "source": [
    "df.head()"
   ]
  },
  {
   "cell_type": "code",
   "execution_count": 75,
   "metadata": {},
   "outputs": [],
   "source": [
    "df = df.drop(columns=['Unnamed: 0', 'screen_name', 'username', 'user_id', 'tweet_id', 'tweet_url', 'timestamp' ,'timestamp_epochs', 'text_html', 'links', 'hashtags', 'has_media', 'img_urls', 'video_url', 'likes','retweets', 'replies', 'is_replied', 'is_reply_to', 'parent_tweet_id', 'reply_to_users'])\n"
   ]
  },
  {
   "cell_type": "code",
   "execution_count": 76,
   "metadata": {},
   "outputs": [
    {
     "output_type": "execute_result",
     "data": {
      "text/plain": "(13937, 2)"
     },
     "metadata": {},
     "execution_count": 76
    }
   ],
   "source": [
    "df.shape"
   ]
  },
  {
   "cell_type": "code",
   "execution_count": 77,
   "metadata": {},
   "outputs": [],
   "source": [
    "df.drop_duplicates(subset =\"text\", keep = False, inplace = True) "
   ]
  },
  {
   "cell_type": "code",
   "execution_count": 78,
   "metadata": {},
   "outputs": [
    {
     "output_type": "execute_result",
     "data": {
      "text/plain": "(12523, 2)"
     },
     "metadata": {},
     "execution_count": 78
    }
   ],
   "source": [
    "df.shape"
   ]
  },
  {
   "cell_type": "code",
   "execution_count": 79,
   "metadata": {},
   "outputs": [],
   "source": [
    "df.to_csv('Dataset/accident_14.csv', index=False)"
   ]
  }
 ]
}