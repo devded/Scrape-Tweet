{
 "cells": [
  {
   "cell_type": "code",
   "execution_count": 1,
   "metadata": {},
   "outputs": [],
   "source": [
    "from twitterscraper import query_tweets\n",
    "import datetime as dt\n",
    "import pandas as pd"
   ]
  },
  {
   "cell_type": "code",
   "execution_count": 26,
   "metadata": {},
   "outputs": [],
   "source": [
    "tweet_topic = 'accident'\n",
    "begin_date = dt.date(2020,7,1)\n",
    "end_date = dt.date.today()\n",
    "tweet_limit = 30000\n",
    "tweet_lang = 'english'\n",
    "\n",
    "if __name__ == '__main__':\n",
    "    # list_of_tweets = query_tweets(\"Trump OR Clinton\", 10)\n",
    "    list_of_tweets = query_tweets(tweet_topic, limit=tweet_limit, begindate=begin_date, enddate=end_date, poolsize=20, lang=tweet_lang)"
   ]
  },
  {
   "cell_type": "code",
   "execution_count": 27,
   "metadata": {},
   "outputs": [
    {
     "output_type": "execute_result",
     "data": {
      "text/plain": "(13937, 21)"
     },
     "metadata": {},
     "execution_count": 27
    }
   ],
   "source": [
    "df = pd.DataFrame(t.__dict__ for t in list_of_tweets)\n",
    "df.shape"
   ]
  },
  {
   "cell_type": "code",
   "execution_count": 28,
   "metadata": {},
   "outputs": [
    {
     "output_type": "execute_result",
     "data": {
      "text/plain": "       screen_name                             username              user_id  \\\n0   naomi_cortez11                            ❅Nⱥ๏mᎥ❅ ✨            867458209   \n1         DaavPuke  Daav 'Riots Are Good Actually' Puke            187295425   \n2  doctorneutroph1             doctorneutrophilsarelife  1284998127607599105   \n3  JonSmit84868940                            Jon Smith  1238503858684465152   \n4  KansasCityScout                    Kansas City Scout             25517791   \n\n              tweet_id                                    tweet_url  \\\n0  1287538180044988416   /naomi_cortez11/status/1287538180044988416   \n1  1287538165859983365         /DaavPuke/status/1287538165859983365   \n2  1287538159765651457  /doctorneutroph1/status/1287538159765651457   \n3  1287538120427294720  /JonSmit84868940/status/1287538120427294720   \n4  1287538116958584833  /KansasCityScout/status/1287538116958584833   \n\n            timestamp  timestamp_epochs  \\\n0 2020-07-26 23:59:58        1595807998   \n1 2020-07-26 23:59:54        1595807994   \n2 2020-07-26 23:59:53        1595807993   \n3 2020-07-26 23:59:43        1595807983   \n4 2020-07-26 23:59:43        1595807983   \n\n                                                text  \\\n0  I need to redye my roots but how am I suppose ...   \n1  Any accident that brings you to Twitter is an ...   \n2  legit I used their first name by accident on a...   \n3     Republicans didn't make laws dumb by accident.   \n4  Updt 2: ACCIDENT\\nI-435 WB (KS) PAST STATE LIN...   \n\n                                           text_html links  ... has_media  \\\n0  <p class=\"TweetTextSize js-tweet-text tweet-te...    []  ...     False   \n1  <p class=\"TweetTextSize js-tweet-text tweet-te...    []  ...     False   \n2  <p class=\"TweetTextSize js-tweet-text tweet-te...    []  ...     False   \n3  <p class=\"TweetTextSize js-tweet-text tweet-te...    []  ...     False   \n4  <p class=\"TweetTextSize js-tweet-text tweet-te...    []  ...     False   \n\n   img_urls video_url likes  retweets  replies  is_replied  is_reply_to  \\\n0        []               0         0        0       False        False   \n1        []               1         0        0       False         True   \n2        []               1         0        0       False         True   \n3        []               0         0        0       False         True   \n4        []               0         0        0       False        False   \n\n       parent_tweet_id                                     reply_to_users  \n0                                                                      []  \n1  1287537740926586882  [{'screen_name': 'chersith', 'user_id': '97954...  \n2  1287492997752467456  [{'screen_name': 'gemini_mdtobe', 'user_id': '...  \n3  1287468285940776961  [{'screen_name': 'shannonrwatts', 'user_id': '...  \n4                                                                      []  \n\n[5 rows x 21 columns]",
      "text/html": "<div>\n<style scoped>\n    .dataframe tbody tr th:only-of-type {\n        vertical-align: middle;\n    }\n\n    .dataframe tbody tr th {\n        vertical-align: top;\n    }\n\n    .dataframe thead th {\n        text-align: right;\n    }\n</style>\n<table border=\"1\" class=\"dataframe\">\n  <thead>\n    <tr style=\"text-align: right;\">\n      <th></th>\n      <th>screen_name</th>\n      <th>username</th>\n      <th>user_id</th>\n      <th>tweet_id</th>\n      <th>tweet_url</th>\n      <th>timestamp</th>\n      <th>timestamp_epochs</th>\n      <th>text</th>\n      <th>text_html</th>\n      <th>links</th>\n      <th>...</th>\n      <th>has_media</th>\n      <th>img_urls</th>\n      <th>video_url</th>\n      <th>likes</th>\n      <th>retweets</th>\n      <th>replies</th>\n      <th>is_replied</th>\n      <th>is_reply_to</th>\n      <th>parent_tweet_id</th>\n      <th>reply_to_users</th>\n    </tr>\n  </thead>\n  <tbody>\n    <tr>\n      <th>0</th>\n      <td>naomi_cortez11</td>\n      <td>❅Nⱥ๏mᎥ❅ ✨</td>\n      <td>867458209</td>\n      <td>1287538180044988416</td>\n      <td>/naomi_cortez11/status/1287538180044988416</td>\n      <td>2020-07-26 23:59:58</td>\n      <td>1595807998</td>\n      <td>I need to redye my roots but how am I suppose ...</td>\n      <td>&lt;p class=\"TweetTextSize js-tweet-text tweet-te...</td>\n      <td>[]</td>\n      <td>...</td>\n      <td>False</td>\n      <td>[]</td>\n      <td></td>\n      <td>0</td>\n      <td>0</td>\n      <td>0</td>\n      <td>False</td>\n      <td>False</td>\n      <td></td>\n      <td>[]</td>\n    </tr>\n    <tr>\n      <th>1</th>\n      <td>DaavPuke</td>\n      <td>Daav 'Riots Are Good Actually' Puke</td>\n      <td>187295425</td>\n      <td>1287538165859983365</td>\n      <td>/DaavPuke/status/1287538165859983365</td>\n      <td>2020-07-26 23:59:54</td>\n      <td>1595807994</td>\n      <td>Any accident that brings you to Twitter is an ...</td>\n      <td>&lt;p class=\"TweetTextSize js-tweet-text tweet-te...</td>\n      <td>[]</td>\n      <td>...</td>\n      <td>False</td>\n      <td>[]</td>\n      <td></td>\n      <td>1</td>\n      <td>0</td>\n      <td>0</td>\n      <td>False</td>\n      <td>True</td>\n      <td>1287537740926586882</td>\n      <td>[{'screen_name': 'chersith', 'user_id': '97954...</td>\n    </tr>\n    <tr>\n      <th>2</th>\n      <td>doctorneutroph1</td>\n      <td>doctorneutrophilsarelife</td>\n      <td>1284998127607599105</td>\n      <td>1287538159765651457</td>\n      <td>/doctorneutroph1/status/1287538159765651457</td>\n      <td>2020-07-26 23:59:53</td>\n      <td>1595807993</td>\n      <td>legit I used their first name by accident on a...</td>\n      <td>&lt;p class=\"TweetTextSize js-tweet-text tweet-te...</td>\n      <td>[]</td>\n      <td>...</td>\n      <td>False</td>\n      <td>[]</td>\n      <td></td>\n      <td>1</td>\n      <td>0</td>\n      <td>0</td>\n      <td>False</td>\n      <td>True</td>\n      <td>1287492997752467456</td>\n      <td>[{'screen_name': 'gemini_mdtobe', 'user_id': '...</td>\n    </tr>\n    <tr>\n      <th>3</th>\n      <td>JonSmit84868940</td>\n      <td>Jon Smith</td>\n      <td>1238503858684465152</td>\n      <td>1287538120427294720</td>\n      <td>/JonSmit84868940/status/1287538120427294720</td>\n      <td>2020-07-26 23:59:43</td>\n      <td>1595807983</td>\n      <td>Republicans didn't make laws dumb by accident.</td>\n      <td>&lt;p class=\"TweetTextSize js-tweet-text tweet-te...</td>\n      <td>[]</td>\n      <td>...</td>\n      <td>False</td>\n      <td>[]</td>\n      <td></td>\n      <td>0</td>\n      <td>0</td>\n      <td>0</td>\n      <td>False</td>\n      <td>True</td>\n      <td>1287468285940776961</td>\n      <td>[{'screen_name': 'shannonrwatts', 'user_id': '...</td>\n    </tr>\n    <tr>\n      <th>4</th>\n      <td>KansasCityScout</td>\n      <td>Kansas City Scout</td>\n      <td>25517791</td>\n      <td>1287538116958584833</td>\n      <td>/KansasCityScout/status/1287538116958584833</td>\n      <td>2020-07-26 23:59:43</td>\n      <td>1595807983</td>\n      <td>Updt 2: ACCIDENT\\nI-435 WB (KS) PAST STATE LIN...</td>\n      <td>&lt;p class=\"TweetTextSize js-tweet-text tweet-te...</td>\n      <td>[]</td>\n      <td>...</td>\n      <td>False</td>\n      <td>[]</td>\n      <td></td>\n      <td>0</td>\n      <td>0</td>\n      <td>0</td>\n      <td>False</td>\n      <td>False</td>\n      <td></td>\n      <td>[]</td>\n    </tr>\n  </tbody>\n</table>\n<p>5 rows × 21 columns</p>\n</div>"
     },
     "metadata": {},
     "execution_count": 28
    }
   ],
   "source": [
    "df.head()"
   ]
  },
  {
   "cell_type": "code",
   "execution_count": 29,
   "metadata": {},
   "outputs": [],
   "source": [
    "df.to_csv('accident 13937.csv')"
   ]
  },
  {
   "cell_type": "code",
   "execution_count": null,
   "metadata": {},
   "outputs": [],
   "source": []
  }
 ],
 "metadata": {
  "kernelspec": {
   "display_name": "Python 3",
   "language": "python",
   "name": "python3"
  },
  "language_info": {
   "codemirror_mode": {
    "name": "ipython",
    "version": 3
   },
   "file_extension": ".py",
   "mimetype": "text/x-python",
   "name": "python",
   "nbconvert_exporter": "python",
   "pygments_lexer": "ipython3",
   "version": "3.7.6-final"
  }
 },
 "nbformat": 4,
 "nbformat_minor": 4
}