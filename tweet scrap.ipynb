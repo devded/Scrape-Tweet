{
 "cells": [
  {
   "cell_type": "code",
   "execution_count": 12,
   "metadata": {},
   "outputs": [],
   "source": [
    "from twitterscraper import query_tweets\n",
    "import datetime as dt\n",
    "import pandas as pd"
   ]
  },
  {
   "cell_type": "code",
   "execution_count": 13,
   "metadata": {},
   "outputs": [],
   "source": [
    "tweet_topic = 'typhoon'\n",
    "begin_date = dt.date(2018,1,1)\n",
    "end_date = dt.date.today()\n",
    "tweet_limit = 30000\n",
    "tweet_lang = 'english'\n",
    "\n",
    "if __name__ == '__main__':\n",
    "    # list_of_tweets = query_tweets(\"Trump OR Clinton\", 10)\n",
    "    list_of_tweets = query_tweets(tweet_topic, limit=tweet_limit, begindate=begin_date, enddate=end_date, poolsize=20, lang=tweet_lang)"
   ]
  },
  {
   "cell_type": "code",
   "execution_count": 14,
   "metadata": {},
   "outputs": [
    {
     "output_type": "execute_result",
     "data": {
      "text/plain": "(374, 21)"
     },
     "metadata": {},
     "execution_count": 14
    }
   ],
   "source": [
    "df = pd.DataFrame(t.__dict__ for t in list_of_tweets)\n",
    "df.shape"
   ]
  },
  {
   "cell_type": "code",
   "execution_count": 15,
   "metadata": {},
   "outputs": [
    {
     "output_type": "execute_result",
     "data": {
      "text/plain": "       screen_name               username     user_id            tweet_id  \\\n0         yujii136                  松永　勇士  3068813443  964650355152662528   \n1      InstBirdPop       Bird Populations  2835276254  964650098176086016   \n2  imprezafujiwara  IMPRESA FUJIWARA(完全体)  2221172438  964648436367728646   \n3     typhoon_aegi               台風喘ぎ声bot  2735296722  964647208174870528   \n4      rooster_irl         Rooster Gaijin   301884812  964647055804133377   \n\n                                    tweet_url           timestamp  \\\n0         /yujii136/status/964650355152662528 2018-02-16 23:59:01   \n1      /InstBirdPop/status/964650098176086016 2018-02-16 23:58:00   \n2  /imprezafujiwara/status/964648436367728646 2018-02-16 23:51:24   \n3     /typhoon_aegi/status/964647208174870528 2018-02-16 23:46:31   \n4      /rooster_irl/status/964647055804133377 2018-02-16 23:45:55   \n\n   timestamp_epochs                                               text  \\\n0        1518825541  猫が怖がりつつ全力で台風を楽しんでいる動画　- the cat enjoys typhoon...   \n1        1518825480  The Institute was well represented at The Wild...   \n2        1518825084  ベスタのtyphoon購入、使用で分かった事は、やっぱりVirtual DJ良いジャマイカと...   \n3        1518824791                                     私は…いつでもきれいだよ♥︎   \n4        1518824755  BUT BUT BUT, with typhoon, you get to add to i...   \n\n                                           text_html  \\\n0  <p class=\"TweetTextSize js-tweet-text tweet-te...   \n1  <p class=\"TweetTextSize js-tweet-text tweet-te...   \n2  <p class=\"TweetTextSize js-tweet-text tweet-te...   \n3  <p class=\"TweetTextSize js-tweet-text tweet-te...   \n4  <p class=\"TweetTextSize js-tweet-text tweet-te...   \n\n                                             links  ... has_media  \\\n0  [http://terratopi.roflclub.asia/article/32478/]  ...     False   \n1                                               []  ...      True   \n2                                               []  ...     False   \n3                                               []  ...     False   \n4                                               []  ...     False   \n\n                                            img_urls video_url likes  \\\n0                                                 []               0   \n1  [https://pbs.twimg.com/media/DWMgDe3U0AAVuGy.jpg]               3   \n2                                                 []               1   \n3                                                 []               0   \n4                                                 []               0   \n\n   retweets  replies  is_replied  is_reply_to     parent_tweet_id  \\\n0         0        0       False        False                       \n1         0        0       False        False                       \n2         0        0       False        False                       \n3         0        0       False        False                       \n4         0        0       False         True  964623919167754248   \n\n                                      reply_to_users  \n0                                                 []  \n1                                                 []  \n2                                                 []  \n3                                                 []  \n4  [{'screen_name': 'atanae', 'user_id': '2859789...  \n\n[5 rows x 21 columns]",
      "text/html": "<div>\n<style scoped>\n    .dataframe tbody tr th:only-of-type {\n        vertical-align: middle;\n    }\n\n    .dataframe tbody tr th {\n        vertical-align: top;\n    }\n\n    .dataframe thead th {\n        text-align: right;\n    }\n</style>\n<table border=\"1\" class=\"dataframe\">\n  <thead>\n    <tr style=\"text-align: right;\">\n      <th></th>\n      <th>screen_name</th>\n      <th>username</th>\n      <th>user_id</th>\n      <th>tweet_id</th>\n      <th>tweet_url</th>\n      <th>timestamp</th>\n      <th>timestamp_epochs</th>\n      <th>text</th>\n      <th>text_html</th>\n      <th>links</th>\n      <th>...</th>\n      <th>has_media</th>\n      <th>img_urls</th>\n      <th>video_url</th>\n      <th>likes</th>\n      <th>retweets</th>\n      <th>replies</th>\n      <th>is_replied</th>\n      <th>is_reply_to</th>\n      <th>parent_tweet_id</th>\n      <th>reply_to_users</th>\n    </tr>\n  </thead>\n  <tbody>\n    <tr>\n      <th>0</th>\n      <td>yujii136</td>\n      <td>松永　勇士</td>\n      <td>3068813443</td>\n      <td>964650355152662528</td>\n      <td>/yujii136/status/964650355152662528</td>\n      <td>2018-02-16 23:59:01</td>\n      <td>1518825541</td>\n      <td>猫が怖がりつつ全力で台風を楽しんでいる動画　- the cat enjoys typhoon...</td>\n      <td>&lt;p class=\"TweetTextSize js-tweet-text tweet-te...</td>\n      <td>[http://terratopi.roflclub.asia/article/32478/]</td>\n      <td>...</td>\n      <td>False</td>\n      <td>[]</td>\n      <td></td>\n      <td>0</td>\n      <td>0</td>\n      <td>0</td>\n      <td>False</td>\n      <td>False</td>\n      <td></td>\n      <td>[]</td>\n    </tr>\n    <tr>\n      <th>1</th>\n      <td>InstBirdPop</td>\n      <td>Bird Populations</td>\n      <td>2835276254</td>\n      <td>964650098176086016</td>\n      <td>/InstBirdPop/status/964650098176086016</td>\n      <td>2018-02-16 23:58:00</td>\n      <td>1518825480</td>\n      <td>The Institute was well represented at The Wild...</td>\n      <td>&lt;p class=\"TweetTextSize js-tweet-text tweet-te...</td>\n      <td>[]</td>\n      <td>...</td>\n      <td>True</td>\n      <td>[https://pbs.twimg.com/media/DWMgDe3U0AAVuGy.jpg]</td>\n      <td></td>\n      <td>3</td>\n      <td>0</td>\n      <td>0</td>\n      <td>False</td>\n      <td>False</td>\n      <td></td>\n      <td>[]</td>\n    </tr>\n    <tr>\n      <th>2</th>\n      <td>imprezafujiwara</td>\n      <td>IMPRESA FUJIWARA(完全体)</td>\n      <td>2221172438</td>\n      <td>964648436367728646</td>\n      <td>/imprezafujiwara/status/964648436367728646</td>\n      <td>2018-02-16 23:51:24</td>\n      <td>1518825084</td>\n      <td>ベスタのtyphoon購入、使用で分かった事は、やっぱりVirtual DJ良いジャマイカと...</td>\n      <td>&lt;p class=\"TweetTextSize js-tweet-text tweet-te...</td>\n      <td>[]</td>\n      <td>...</td>\n      <td>False</td>\n      <td>[]</td>\n      <td></td>\n      <td>1</td>\n      <td>0</td>\n      <td>0</td>\n      <td>False</td>\n      <td>False</td>\n      <td></td>\n      <td>[]</td>\n    </tr>\n    <tr>\n      <th>3</th>\n      <td>typhoon_aegi</td>\n      <td>台風喘ぎ声bot</td>\n      <td>2735296722</td>\n      <td>964647208174870528</td>\n      <td>/typhoon_aegi/status/964647208174870528</td>\n      <td>2018-02-16 23:46:31</td>\n      <td>1518824791</td>\n      <td>私は…いつでもきれいだよ♥︎</td>\n      <td>&lt;p class=\"TweetTextSize js-tweet-text tweet-te...</td>\n      <td>[]</td>\n      <td>...</td>\n      <td>False</td>\n      <td>[]</td>\n      <td></td>\n      <td>0</td>\n      <td>0</td>\n      <td>0</td>\n      <td>False</td>\n      <td>False</td>\n      <td></td>\n      <td>[]</td>\n    </tr>\n    <tr>\n      <th>4</th>\n      <td>rooster_irl</td>\n      <td>Rooster Gaijin</td>\n      <td>301884812</td>\n      <td>964647055804133377</td>\n      <td>/rooster_irl/status/964647055804133377</td>\n      <td>2018-02-16 23:45:55</td>\n      <td>1518824755</td>\n      <td>BUT BUT BUT, with typhoon, you get to add to i...</td>\n      <td>&lt;p class=\"TweetTextSize js-tweet-text tweet-te...</td>\n      <td>[]</td>\n      <td>...</td>\n      <td>False</td>\n      <td>[]</td>\n      <td></td>\n      <td>0</td>\n      <td>0</td>\n      <td>0</td>\n      <td>False</td>\n      <td>True</td>\n      <td>964623919167754248</td>\n      <td>[{'screen_name': 'atanae', 'user_id': '2859789...</td>\n    </tr>\n  </tbody>\n</table>\n<p>5 rows × 21 columns</p>\n</div>"
     },
     "metadata": {},
     "execution_count": 15
    }
   ],
   "source": [
    "df.head()"
   ]
  },
  {
   "cell_type": "code",
   "execution_count": 16,
   "metadata": {},
   "outputs": [],
   "source": [
    "df.to_csv('Data/typhoon.csv')"
   ]
  },
  {
   "cell_type": "code",
   "execution_count": null,
   "metadata": {},
   "outputs": [],
   "source": []
  }
 ],
 "metadata": {
  "kernelspec": {
   "display_name": "Python 3",
   "language": "python",
   "name": "python3"
  },
  "language_info": {
   "codemirror_mode": {
    "name": "ipython",
    "version": 3
   },
   "file_extension": ".py",
   "mimetype": "text/x-python",
   "name": "python",
   "nbconvert_exporter": "python",
   "pygments_lexer": "ipython3",
   "version": "3.7.6-final"
  }
 },
 "nbformat": 4,
 "nbformat_minor": 4
}